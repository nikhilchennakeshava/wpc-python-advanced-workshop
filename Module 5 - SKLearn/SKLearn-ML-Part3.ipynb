{
 "cells": [
  {
   "cell_type": "code",
   "execution_count": 1,
   "metadata": {},
   "outputs": [],
   "source": [
    "##### SCIKIT-LEARN or SKLEARN #####\n",
    "#\n",
    "#  - Python Machine Learning Module\n",
    "#  - Simple and efficient tools for data mining and data analysis\n",
    "#  - Accessible to everybody, and reusable in various contexts\n",
    "#  - Built on NumPy, SciPy, and matplotlib\n",
    "#  - Open source, commercially usable - BSD license\n",
    "#\n",
    "# https://scikit-learn.org/stable/index.html\n",
    "# https://scikit-learn.org/stable/user_guide.html \n",
    "# https://scikit-learn.org/stable/modules/classes.html\n",
    "# https://scikit-learn.org/stable/auto_examples/"
   ]
  },
  {
   "cell_type": "code",
   "execution_count": 2,
   "metadata": {},
   "outputs": [],
   "source": [
    "# The sklearn ML API is very consistent:\n",
    "# 0) read data\n",
    "# 1) explore data\n",
    "# 2) preprocess data\n",
    "# 3) setup data for consumption by ML model \n",
    "#     4) choose the model by importing the appropriate estiamtor class from sklearn [from sklearn import model]\n",
    "#     5) instantiate the model with desired parameter values [ml=model()]\n",
    "#     6) fit the model to the training data [ml.fit(Xtrain, ytrain)]\n",
    "#     7) apply the model to test data [ypred=ml.predict(Xtest) or ml.transform(Xtest)]\n",
    "# 8) evaluate model\n",
    "# 9) deploy/use model"
   ]
  },
  {
   "cell_type": "code",
   "execution_count": 3,
   "metadata": {},
   "outputs": [],
   "source": [
    "import pandas as pd\n",
    "import numpy as np"
   ]
  },
  {
   "cell_type": "code",
   "execution_count": 4,
   "metadata": {},
   "outputs": [],
   "source": [
    "##### Ensemble Methods\n",
    "#\n",
    "# https://scikit-learn.org/stable/modules/ensemble.html\n",
    "#\n",
    "# - The goal of ensemble methods is to combine the predictions of several base estimators \n",
    "#    built with a given learning algorithm in order to improve generalizability / robustness over \n",
    "#    that of a single estimator.\n",
    "#\n",
    "# - In Averaging Methods, the driving principle is to build several estimators independently \n",
    "#   and then to average their predictions. On average, the combined estimator is usually better \n",
    "#   than any of the single base estimator because its variance is reduced. \n",
    "#   Examples include: \n",
    "#    Bagging (Bootrstrap Aggregation) Methods \n",
    "#    Forests of Randomized Trees (Random Forest, and Extremely Randomized (Extra) Trees)\n",
    "#\n",
    "# - By contrast, in Boosting Methods, base estimators are built sequentially and one tries to \n",
    "#   reduce the bias of the combined estimator. The motivation is to combine several weak \n",
    "#   models to produce a powerful ensemble. \n",
    "#   Examples include: \n",
    "#    AdaBoost (Adaptive Boosting)\n",
    "#    Gradient Tree Boosting\n",
    "#\n",
    "# - Bagging methods work best with strong and complex models (e.g., fully developed decision \n",
    "#   trees), in contrast with Boosting methods which usually work best with weak models \n",
    "#   (e.g., shallow decision trees)."
   ]
  },
  {
   "cell_type": "code",
   "execution_count": 5,
   "metadata": {},
   "outputs": [
    {
     "name": "stdout",
     "output_type": "stream",
     "text": [
      "1.0\n"
     ]
    }
   ],
   "source": [
    "##### Baggigng (Bootrstrap Aggregation)  Methods\n",
    "#\n",
    "# https://scikit-learn.org/stable/modules/generated/sklearn.ensemble.BaggingClassifier.html\n",
    "# \n",
    "\n",
    "# 0) read data\n",
    "from sklearn.datasets import make_blobs\n",
    "X, y = make_blobs(n_samples=10000, n_features=10, centers=100)\n",
    "\n",
    "# 1) explore data\n",
    "# not demonstrating for this example\n",
    "\n",
    "# 2) preprocess data\n",
    "# not demonstrating for this example\n",
    "\n",
    "# 3) setup data for ml model\n",
    "from sklearn.model_selection import train_test_split\n",
    "X_train, X_test, y_train, y_test = train_test_split(X, y, test_size=0.2)\n",
    "\n",
    "# 4-7) import, instantiate, train, test model\n",
    "from sklearn.ensemble import BaggingClassifier                                                           \n",
    "from sklearn.neighbors import KNeighborsClassifier\n",
    "# bagging ensemble of KNeighborsClassifier base estimators, \n",
    "# each built on random subsets of 50% of the samples drawn with replacement,\n",
    "# and 50% of the features drawn without replacement\n",
    "bc = BaggingClassifier(base_estimator=KNeighborsClassifier(), \n",
    "                       max_samples=0.5, bootstrap=True,\n",
    "                       max_features=0.5, bootstrap_features=False)\n",
    "bc.fit(X_train, y_train)\n",
    "y_pred = bc.predict(X_test)\n",
    "print (bc.score(X_test, y_test))"
   ]
  },
  {
   "cell_type": "code",
   "execution_count": 6,
   "metadata": {},
   "outputs": [],
   "source": [
    "##### Forests of Randomized Trees\n",
    "#\n",
    "# - The sklearn.ensemble module includes two averaging algorithms based on randomized \n",
    "#   decision trees: the RandomForest algorithm and the Extra-Trees method.\n",
    "#"
   ]
  },
  {
   "cell_type": "code",
   "execution_count": 7,
   "metadata": {},
   "outputs": [
    {
     "name": "stdout",
     "output_type": "stream",
     "text": [
      "0.9995\n"
     ]
    }
   ],
   "source": [
    "##### Random Forest Classifier\n",
    "#\n",
    "# https://scikit-learn.org/stable/modules/generated/sklearn.ensemble.RandomForestClassifier.html\n",
    "#\n",
    "\n",
    "# 0) read data\n",
    "from sklearn.datasets import make_blobs\n",
    "X, y = make_blobs(n_samples=10000, n_features=10, centers=100)\n",
    "\n",
    "# 1) explore data\n",
    "# not demonstrating for this example\n",
    "\n",
    "# 2) preprocess data\n",
    "# not demonstrating for this example\n",
    "\n",
    "# 3) setup data for ml model\n",
    "from sklearn.model_selection import train_test_split\n",
    "X_train, X_test, y_train, y_test = train_test_split(X, y, test_size=0.2)\n",
    "\n",
    "# 4-7) import, instantiate, train, test model\n",
    "from sklearn.ensemble import RandomForestClassifier                                                                                     \n",
    "rfc = RandomForestClassifier(n_estimators=10, \n",
    "                             max_features='auto', bootstrap=True,\n",
    "                             max_depth=None, min_samples_split=2, min_samples_leaf=1, class_weight=None)   \n",
    "rfc.fit(X_train, y_train)\n",
    "y_pred = rfc.predict(X_test)\n",
    "print (rfc.score(X_test, y_test))"
   ]
  },
  {
   "cell_type": "code",
   "execution_count": 8,
   "metadata": {},
   "outputs": [
    {
     "name": "stdout",
     "output_type": "stream",
     "text": [
      "1.0\n"
     ]
    }
   ],
   "source": [
    "##### Extra Tree Classifier\n",
    "#\n",
    "# https://scikit-learn.org/stable/modules/generated/sklearn.ensemble.ExtraTreesClassifier.html\n",
    "#\n",
    "\n",
    "# 0) read data\n",
    "from sklearn.datasets import make_blobs\n",
    "X, y = make_blobs(n_samples=10000, n_features=10, centers=100, random_state=0)\n",
    "\n",
    "# 1) explore data\n",
    "# not demonstrating for this example\n",
    "\n",
    "# 2) preprocess data\n",
    "# not demonstrating for this example\n",
    "\n",
    "# 3) setup data for ml model\n",
    "from sklearn.model_selection import train_test_split\n",
    "X_train, X_test, y_train, y_test = train_test_split(X, y, test_size=0.2, random_state=1)\n",
    "\n",
    "# import, instantiate, train, test model\n",
    "from sklearn.ensemble import ExtraTreesClassifier  \n",
    "etc = ExtraTreesClassifier(n_estimators=10, \n",
    "                           max_features='auto', bootstrap=False,\n",
    "                           max_depth=None, min_samples_split=2, min_samples_leaf=1, class_weight=None)   \n",
    "etc.fit(X_train, y_train)\n",
    "y_pred = etc.predict(X_test)\n",
    "print (etc.score(X_test, y_test))"
   ]
  },
  {
   "cell_type": "code",
   "execution_count": 9,
   "metadata": {},
   "outputs": [
    {
     "name": "stdout",
     "output_type": "stream",
     "text": [
      "0.977\n"
     ]
    }
   ],
   "source": [
    "##### AdaBoost (Adaptive Boosting)\n",
    "# \n",
    "# https://scikit-learn.org/stable/modules/generated/sklearn.ensemble.AdaBoostClassifier.html\n",
    "#\n",
    "\n",
    "# 0) read data\n",
    "from sklearn.datasets import make_blobs\n",
    "X, y = make_blobs(n_samples=10000, n_features=10, centers=100)\n",
    "\n",
    "# 1) explore data\n",
    "# not demonstrating for this example\n",
    "\n",
    "# 2) preprocess data\n",
    "# not demonstrating for this example\n",
    "\n",
    "# 3) setup data for ml model\n",
    "from sklearn.model_selection import train_test_split\n",
    "X_train, X_test, y_train, y_test = train_test_split(X, y, test_size=0.2)\n",
    "\n",
    "# 4-7) import, instantiate, train, test model\n",
    "from sklearn.ensemble import AdaBoostClassifier\n",
    "abc = AdaBoostClassifier(n_estimators=100, learning_rate=0.01)\n",
    "#from sklearn.svm import SVC\n",
    "#svc = SVC(kernel='linear', C=1.0)\n",
    "#from sklearn.ensemble import AdaBoostClassifier                                                                                                \n",
    "#abc = AdaBoostClassifier(base_estimator=svc, n_estimators=100, learning_rate=0.01, algorithm='SAMME')      \n",
    "\n",
    "abc.fit(X_train, y_train)\n",
    "y_pred = abc.predict(X_test)\n",
    "print (abc.score(X_test, y_test)) "
   ]
  },
  {
   "cell_type": "code",
   "execution_count": 10,
   "metadata": {},
   "outputs": [
    {
     "name": "stdout",
     "output_type": "stream",
     "text": [
      "0.9975\n"
     ]
    }
   ],
   "source": [
    "##### Gradient Tree Boosting\n",
    "#\n",
    "# https://scikit-learn.org/stable/modules/generated/sklearn.ensemble.GradientBoostingClassifier.html\n",
    "#\n",
    "\n",
    "# 0) read data\n",
    "from sklearn.datasets import make_blobs\n",
    "X, y = make_blobs(n_samples=10000, n_features=10, centers=10)\n",
    "\n",
    "# 1) explore data\n",
    "# not demonstrating for this example\n",
    "\n",
    "# 2) preprocess data\n",
    "# not demonstrating for this example\n",
    "\n",
    "# 3) setup data for ml model\n",
    "from sklearn.model_selection import train_test_split\n",
    "X_train, X_test, y_train, y_test = train_test_split(X, y, test_size=0.2)\n",
    "\n",
    "# 4-7) import, instantiate, train, test model\n",
    "from sklearn.ensemble import GradientBoostingClassifier \n",
    "gbc = GradientBoostingClassifier(n_estimators=100, learning_rate=0.01,\n",
    "                                                   max_depth=3, min_samples_split=2, min_samples_leaf=1)\n",
    "gbc.fit(X_train, y_train) \n",
    "y_pred = gbc.predict(X_test)  \n",
    "print (gbc.score(X_test, y_test))  "
   ]
  },
  {
   "cell_type": "code",
   "execution_count": 11,
   "metadata": {},
   "outputs": [
    {
     "name": "stdout",
     "output_type": "stream",
     "text": [
      "1.0\n"
     ]
    }
   ],
   "source": [
    "##### Voting Classifiers\n",
    "# \n",
    "# https://scikit-learn.org/stable/modules/ensemble.html#voting-classifier\n",
    "#\n",
    "\n",
    "# 0) read data\n",
    "from sklearn.datasets import make_blobs\n",
    "X, y = make_blobs(n_samples=10000, n_features=10, centers=10, random_state=0)\n",
    "\n",
    "# 1) explore data\n",
    "# not demonstrating for this example\n",
    "\n",
    "# 2) preprocess data\n",
    "# not demonstrating for this example\n",
    "\n",
    "# 3) setup data for ml model\n",
    "from sklearn.model_selection import train_test_split\n",
    "X_train, X_test, y_train, y_test = train_test_split(X, y, test_size=0.2)\n",
    "\n",
    "# 4-7) import, instantiate, train, test model\n",
    "from sklearn.tree import DecisionTreeClassifier\n",
    "from sklearn.neighbors import KNeighborsClassifier\n",
    "from sklearn.svm import SVC\n",
    "from sklearn.ensemble import VotingClassifier   \n",
    "dtc = DecisionTreeClassifier(max_depth=4)\n",
    "knn = KNeighborsClassifier(n_neighbors=7)\n",
    "svc = SVC(gamma='scale', kernel='rbf', probability=True)\n",
    "#eclf = VotingClassifier(estimators=[('dtc', dtc), ('knn', knn), ('svc', svc)], voting='hard')  \n",
    "eclf = VotingClassifier(estimators=[('dtc', dtc), ('knn', knn), ('svc', svc)], voting='soft', weights=[2, 1, 2])       \n",
    "eclf.fit(X_train, y_train)\n",
    "y_pred = eclf.predict(X_test)\n",
    "print (eclf.score(X_test, y_test))"
   ]
  },
  {
   "cell_type": "code",
   "execution_count": null,
   "metadata": {},
   "outputs": [],
   "source": []
  },
  {
   "cell_type": "code",
   "execution_count": null,
   "metadata": {},
   "outputs": [],
   "source": []
  }
 ],
 "metadata": {
  "kernelspec": {
   "display_name": "Python 3",
   "language": "python",
   "name": "python3"
  },
  "language_info": {
   "codemirror_mode": {
    "name": "ipython",
    "version": 3
   },
   "file_extension": ".py",
   "mimetype": "text/x-python",
   "name": "python",
   "nbconvert_exporter": "python",
   "pygments_lexer": "ipython3",
   "version": "3.7.3"
  }
 },
 "nbformat": 4,
 "nbformat_minor": 2
}
