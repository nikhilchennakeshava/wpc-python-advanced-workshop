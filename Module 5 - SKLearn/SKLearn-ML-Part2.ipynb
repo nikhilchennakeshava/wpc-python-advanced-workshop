{
 "cells": [
  {
   "cell_type": "code",
   "execution_count": 81,
   "metadata": {},
   "outputs": [],
   "source": [
    "##### SCIKIT-LEARN or SKLEARN #####\n",
    "#\n",
    "#  - Python Machine Learning Module\n",
    "#  - Simple and efficient tools for data mining and data analysis\n",
    "#  - Accessible to everybody, and reusable in various contexts\n",
    "#  - Built on NumPy, SciPy, and matplotlib\n",
    "#  - Open source, commercially usable - BSD license\n",
    "#\n",
    "# https://scikit-learn.org/stable/index.html\n",
    "# https://scikit-learn.org/stable/user_guide.html \n",
    "# https://scikit-learn.org/stable/modules/classes.html\n",
    "# https://scikit-learn.org/stable/auto_examples/"
   ]
  },
  {
   "cell_type": "code",
   "execution_count": 82,
   "metadata": {},
   "outputs": [],
   "source": [
    "# The sklearn ML API is very consistent:\n",
    "# 0) read data\n",
    "# 1) explore data\n",
    "# 2) preprocess data\n",
    "# 3) setup data for consumption by ML model \n",
    "#     4) choose the model by importing the appropriate estiamtor class from sklearn [from sklearn import model]\n",
    "#     5) instantiate the model with desired parameter values [ml=model()]\n",
    "#     6) fit the model to the training data [ml.fit(Xtrain, ytrain)]\n",
    "#     7) apply the model to test data [ypred=ml.predict(Xtest) or ml.transform(Xtest)]\n",
    "# 8) evaluate model\n",
    "# 9) deploy/use model"
   ]
  },
  {
   "cell_type": "code",
   "execution_count": 83,
   "metadata": {},
   "outputs": [],
   "source": [
    "import pandas as pd\n",
    "import numpy as np"
   ]
  },
  {
   "cell_type": "code",
   "execution_count": 84,
   "metadata": {},
   "outputs": [
    {
     "name": "stdout",
     "output_type": "stream",
     "text": [
      "1.0\n",
      "[[11  0  0]\n",
      " [ 0 13  0]\n",
      " [ 0  0  6]]\n",
      "              precision    recall  f1-score   support\n",
      "\n",
      "           0       1.00      1.00      1.00        11\n",
      "           1       1.00      1.00      1.00        13\n",
      "           2       1.00      1.00      1.00         6\n",
      "\n",
      "   micro avg       1.00      1.00      1.00        30\n",
      "   macro avg       1.00      1.00      1.00        30\n",
      "weighted avg       1.00      1.00      1.00        30\n",
      "\n"
     ]
    }
   ],
   "source": [
    "##### Logistic Regression\n",
    "#\n",
    "# https://scikit-learn.org/stable/modules/generated/sklearn.linear_model.LogisticRegression.html\n",
    "#\n",
    " \n",
    "# 0) read data\n",
    "from sklearn.datasets import load_iris\n",
    "dataset = load_iris()\n",
    "df = pd.DataFrame(dataset.data, columns=dataset.feature_names)\n",
    "df['label'] = dataset.target\n",
    "df.head()\n",
    "\n",
    "# 1) explore data\n",
    "# not demonstrating for this example\n",
    "\n",
    "# 2) preprocess data\n",
    "# not demonstrating for this example\n",
    "\n",
    "# 3) setup data for ml model\n",
    "X = df.drop(['label'], axis=1)\n",
    "y = df['label']\n",
    "from sklearn.model_selection import train_test_split\n",
    "X_train, X_test, y_train, y_test = train_test_split(X, y, test_size=0.2, random_state=1)\n",
    "\n",
    "# 4-7) import, instantiate, train, test model\n",
    "from sklearn.linear_model import LogisticRegression                                                                   # 4) choose the model \n",
    "lr = LogisticRegression(C=1e5, solver='lbfgs', multi_class='auto', class_weight=None)                # 5) instantiate the model \n",
    "lr.fit(X_train, y_train)                                                                                                                         # 6) fit the model to train data\n",
    "y_pred = lr.predict(X_test)                                                                                                                # 7) apply model to test data \n",
    "\n",
    "# 8) evaluate model\n",
    "# https://scikit-learn.org/stable/modules/model_evaluation.html\n",
    "from sklearn import metrics\n",
    "print (metrics.accuracy_score(y_test, y_pred))\n",
    "print (metrics.confusion_matrix(y_test, y_pred))\n",
    "print (metrics.classification_report(y_test, y_pred))"
   ]
  },
  {
   "cell_type": "code",
   "execution_count": 85,
   "metadata": {},
   "outputs": [
    {
     "name": "stdout",
     "output_type": "stream",
     "text": [
      "1.0\n",
      "[[11  0  0]\n",
      " [ 0 13  0]\n",
      " [ 0  0  6]]\n",
      "              precision    recall  f1-score   support\n",
      "\n",
      "           0       1.00      1.00      1.00        11\n",
      "           1       1.00      1.00      1.00        13\n",
      "           2       1.00      1.00      1.00         6\n",
      "\n",
      "   micro avg       1.00      1.00      1.00        30\n",
      "   macro avg       1.00      1.00      1.00        30\n",
      "weighted avg       1.00      1.00      1.00        30\n",
      "\n"
     ]
    },
    {
     "data": {
      "text/plain": [
       "[<matplotlib.lines.Line2D at 0x2257421e048>]"
      ]
     },
     "execution_count": 85,
     "metadata": {},
     "output_type": "execute_result"
    },
    {
     "data": {
      "image/png": "[encoded data removed]",
      "text/plain": [
       "<Figure size 432x288 with 1 Axes>"
      ]
     },
     "metadata": {
      "needs_background": "light"
     },
     "output_type": "display_data"
    }
   ],
   "source": [
    "##### KNN Classification\n",
    "#\n",
    "# https://scikit-learn.org/stable/modules/neighbors.html\n",
    "# https://scikit-learn.org/stable/modules/generated/sklearn.neighbors.KNeighborsClassifier.html\n",
    "#\n",
    "\n",
    "# 0) read data\n",
    "from sklearn.datasets import load_iris\n",
    "dataset = load_iris()\n",
    "df = pd.DataFrame(dataset.data, columns=dataset.feature_names)\n",
    "df['label'] = dataset.target\n",
    "df.head()\n",
    "\n",
    "# 1) explore data\n",
    "# not demonstrating for this example\n",
    "\n",
    "# 2) preprocess data\n",
    "# not demonstrating for this example\n",
    "\n",
    "# 3) setup data for ml model\n",
    "X = df.drop(['label'], axis=1)\n",
    "y = df['label']\n",
    "from sklearn.model_selection import train_test_split\n",
    "X_train, X_test, y_train, y_test = train_test_split(X, y, test_size=0.2, random_state=1)\n",
    "\n",
    "# 4-7) import, instantiate, train, test model\n",
    "from sklearn.neighbors import KNeighborsClassifier                                                            \n",
    "# simple majority vote (weights='uniform') of 5 nearest neighbors (n_neighbors=5) based on euclidean distance (p=2, metric='minkowski')\n",
    "knn = KNeighborsClassifier(n_neighbors=5, weights='uniform', p=2, metric='minkowski') \n",
    "knn.fit(X_train, y_train)                                                                                                            \n",
    "y_pred = knn.predict(X_test)                                                                                                  \n",
    "\n",
    "# 8) evaluate model\n",
    "# https://scikit-learn.org/stable/modules/model_evaluation.html\n",
    "from sklearn import metrics\n",
    "print (metrics.accuracy_score(y_test, y_pred))\n",
    "print (metrics.confusion_matrix(y_test, y_pred))\n",
    "print (metrics.classification_report(y_test, y_pred))\n",
    "\n",
    "# Note, we can use the \"elbow method\" to pick an optimal k \n",
    "from sklearn import metrics\n",
    "import matplotlib.pyplot as plt\n",
    "errorlst = pd.DataFrame(data=None, columns=['k','error'])\n",
    "for k in range(1,5):\n",
    "    knn = KNeighborsClassifier(n_neighbors=k)\n",
    "    knn.fit(X_train, y_train)\n",
    "    y_pred = knn.predict(X_test)\n",
    "    error = metrics.mean_absolute_error (y_test, y_pred)\n",
    "    errorlst = errorlst.append ({'k':k, 'error':error}, ignore_index=True)\n",
    "plt.plot (errorlst['k'], errorlst['error'], 'o-')"
   ]
  },
  {
   "cell_type": "code",
   "execution_count": 86,
   "metadata": {},
   "outputs": [
    {
     "name": "stdout",
     "output_type": "stream",
     "text": [
      "1.0\n",
      "[[11  0  0]\n",
      " [ 0 13  0]\n",
      " [ 0  0  6]]\n",
      "              precision    recall  f1-score   support\n",
      "\n",
      "           0       1.00      1.00      1.00        11\n",
      "           1       1.00      1.00      1.00        13\n",
      "           2       1.00      1.00      1.00         6\n",
      "\n",
      "   micro avg       1.00      1.00      1.00        30\n",
      "   macro avg       1.00      1.00      1.00        30\n",
      "weighted avg       1.00      1.00      1.00        30\n",
      "\n"
     ]
    }
   ],
   "source": [
    "##### SVM Classification\n",
    "# \n",
    "# https://scikit-learn.org/stable/modules/svm.html\n",
    "# https://scikit-learn.org/stable/modules/generated/sklearn.svm.SVC.html\n",
    "# https://scikit-learn.org/stable/modules/svm.html#svm-kernels\n",
    "#\n",
    "\n",
    "# 0) read data\n",
    "from sklearn.datasets import load_iris\n",
    "dataset = load_iris()\n",
    "df = pd.DataFrame(dataset.data, columns=dataset.feature_names)\n",
    "df['label'] = dataset.target\n",
    "df.head()\n",
    "\n",
    "# 1) explore data\n",
    "# not demonstrating for this example\n",
    "\n",
    "# 2) preprocess data\n",
    "# not demonstrating for this example\n",
    "\n",
    "# 3) setup data for ml model\n",
    "X = df.drop(['label'], axis=1)\n",
    "y = df['label']\n",
    "from sklearn.model_selection import train_test_split\n",
    "X_train, X_test, y_train, y_test = train_test_split(X, y, test_size=0.2, random_state=1)\n",
    "\n",
    "# 4-7) import, instantiate, train, test model\n",
    "from sklearn.svm import SVC                                          \n",
    "svc = SVC(C=1.0, kernel='linear', class_weight=None)     \n",
    "# svc = SVC(C=1.0, kernel='rbf', gamma=0.7)\n",
    "# svc = SVC(C=1.0, kernel='poly', degree=3)\n",
    "svc.fit(X_train, y_train)                                                        \n",
    "y_pred = svc.predict(X_test)                                               \n",
    "\n",
    "# 8) evaluate model\n",
    "# https://scikit-learn.org/stable/modules/model_evaluation.html\n",
    "from sklearn import metrics\n",
    "print (metrics.accuracy_score(y_test, y_pred))\n",
    "print (metrics.confusion_matrix(y_test, y_pred))\n",
    "print (metrics.classification_report(y_test, y_pred))"
   ]
  },
  {
   "cell_type": "code",
   "execution_count": 87,
   "metadata": {},
   "outputs": [
    {
     "name": "stdout",
     "output_type": "stream",
     "text": [
      "0.9666666666666667\n",
      "[[11  0  0]\n",
      " [ 0 12  1]\n",
      " [ 0  0  6]]\n",
      "              precision    recall  f1-score   support\n",
      "\n",
      "           0       1.00      1.00      1.00        11\n",
      "           1       1.00      0.92      0.96        13\n",
      "           2       0.86      1.00      0.92         6\n",
      "\n",
      "   micro avg       0.97      0.97      0.97        30\n",
      "   macro avg       0.95      0.97      0.96        30\n",
      "weighted avg       0.97      0.97      0.97        30\n",
      "\n"
     ]
    }
   ],
   "source": [
    "##### Naive Bayes Classification\n",
    "#\n",
    "# https://scikit-learn.org/stable/modules/naive_bayes.html\n",
    "# https://scikit-learn.org/stable/modules/generated/sklearn.naive_bayes.GaussianNB.html\n",
    "# https://scikit-learn.org/stable/modules/generated/sklearn.naive_bayes.MultinomialNB.html\n",
    "# https://scikit-learn.org/stable/modules/generated/sklearn.naive_bayes.BernoulliNB.html\n",
    "#\n",
    "\n",
    "# 0) read data\n",
    "from sklearn.datasets import load_iris\n",
    "dataset = load_iris()\n",
    "df = pd.DataFrame(dataset.data, columns=dataset.feature_names)\n",
    "df['label'] = dataset.target\n",
    "df.head()\n",
    "\n",
    "# 1) explore data\n",
    "# not demonstrating for this example\n",
    "\n",
    "# 2) preprocess data\n",
    "# not demonstrating for this example\n",
    "\n",
    "# 3) setup data for ml model\n",
    "X = df.drop(['label'], axis=1)\n",
    "y = df['label']\n",
    "from sklearn.model_selection import train_test_split\n",
    "X_train, X_test, y_train, y_test = train_test_split(X, y, test_size=0.2, random_state=1)\n",
    "\n",
    "# 4-7) import, instantiate, train, test model\n",
    "from sklearn.naive_bayes import GaussianNB            \n",
    "nb = GaussianNB()                                                       \n",
    "# from sklearn.naive_bayes import MultinomialNB\n",
    "# nb = MultinomialNB(alpha=1.0, fit_prior=True, class_prior=None)\n",
    "# from sklearn.naive_bayes import BernoulliNB\n",
    "# nb = BernoulliNB()\n",
    "nb.fit(X_train, y_train)                                                   \n",
    "y_pred = nb.predict(X_test)                                         \n",
    "\n",
    "# 8) evaluate model\n",
    "# https://scikit-learn.org/stable/modules/model_evaluation.html\n",
    "from sklearn import metrics\n",
    "print (metrics.accuracy_score(y_test, y_pred))\n",
    "print (metrics.confusion_matrix(y_test, y_pred))\n",
    "print (metrics.classification_report(y_test, y_pred))"
   ]
  },
  {
   "cell_type": "code",
   "execution_count": 88,
   "metadata": {},
   "outputs": [
    {
     "name": "stdout",
     "output_type": "stream",
     "text": [
      "0.9666666666666667\n",
      "[[11  0  0]\n",
      " [ 0 12  1]\n",
      " [ 0  0  6]]\n",
      "              precision    recall  f1-score   support\n",
      "\n",
      "           0       1.00      1.00      1.00        11\n",
      "           1       1.00      0.92      0.96        13\n",
      "           2       0.86      1.00      0.92         6\n",
      "\n",
      "   micro avg       0.97      0.97      0.97        30\n",
      "   macro avg       0.95      0.97      0.96        30\n",
      "weighted avg       0.97      0.97      0.97        30\n",
      "\n"
     ]
    }
   ],
   "source": [
    "##### Decision Tree Classification\n",
    "#\n",
    "# https://scikit-learn.org/stable/modules/tree.html\n",
    "# https://scikit-learn.org/stable/modules/generated/sklearn.tree.DecisionTreeClassifier.html\n",
    "#\n",
    "\n",
    "# 0) read data\n",
    "from sklearn.datasets import load_iris\n",
    "dataset = load_iris()\n",
    "df = pd.DataFrame(dataset.data, columns=dataset.feature_names)\n",
    "df['label'] = dataset.target\n",
    "df.head()\n",
    "\n",
    "# 1) explore data\n",
    "# not demonstrating for this example\n",
    "\n",
    "# 2) preprocess data\n",
    "# not demonstrating for this example\n",
    "\n",
    "# 3) setup data for ml model\n",
    "X = df.drop(['label'], axis=1)\n",
    "y = df['label']\n",
    "from sklearn.model_selection import train_test_split\n",
    "X_train, X_test, y_train, y_test = train_test_split(X, y, test_size=0.2, random_state=1)\n",
    "\n",
    "# 4-7) import, instantiate, train, test model\n",
    "from sklearn.tree import DecisionTreeClassifier            \n",
    "dt = DecisionTreeClassifier(max_depth=None, min_samples_split=2, min_samples_leaf=1, class_weight=None)                                           \n",
    "dt.fit(X_train, y_train)                                                       \n",
    "y_pred = dt.predict(X_test)                                             \n",
    "\n",
    "# 8) evaluate model\n",
    "# https://scikit-learn.org/stable/modules/model_evaluation.html\n",
    "from sklearn import metrics\n",
    "print (metrics.accuracy_score(y_test, y_pred))\n",
    "print (metrics.confusion_matrix(y_test, y_pred))\n",
    "print (metrics.classification_report(y_test, y_pred))"
   ]
  },
  {
   "cell_type": "code",
   "execution_count": null,
   "metadata": {},
   "outputs": [],
   "source": []
  },
  {
   "cell_type": "code",
   "execution_count": null,
   "metadata": {},
   "outputs": [],
   "source": []
  }
 ],
 "metadata": {
  "kernelspec": {
   "display_name": "Python 3",
   "language": "python",
   "name": "python3"
  },
  "language_info": {
   "codemirror_mode": {
    "name": "ipython",
    "version": 3
   },
   "file_extension": ".py",
   "mimetype": "text/x-python",
   "name": "python",
   "nbconvert_exporter": "python",
   "pygments_lexer": "ipython3",
   "version": "3.6.8"
  }
 },
 "nbformat": 4,
 "nbformat_minor": 2
}
