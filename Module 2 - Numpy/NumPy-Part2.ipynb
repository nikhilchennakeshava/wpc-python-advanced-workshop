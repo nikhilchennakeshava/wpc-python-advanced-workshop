{
 "cells": [
  {
   "cell_type": "code",
   "execution_count": 169,
   "metadata": {},
   "outputs": [],
   "source": [
    "# Reference: \n",
    "# online free docs:          https://docs.scipy.org/doc/numpy/\n",
    "#                                     https://docs.scipy.org/doc/numpy/user/basics.types.html\n",
    "#                                     https://docs.scipy.org/doc/numpy/reference/ufuncs.html#available-ufuncs\n",
    "# book old edition free:  https://www.safaribooksonline.com/library/view/python-data-science/9781491912126/\n",
    "# book new edition pay: https://smile.amazon.com/Python-Data-Science-Handbook-Essential/dp/1491912057/"
   ]
  },
  {
   "cell_type": "code",
   "execution_count": 170,
   "metadata": {},
   "outputs": [],
   "source": [
    "# NumPy Arrays are more compact (and therefore more memory efficient) than Python Lists.\n",
    "# Unlike Python Lists, NumPy is constrained to arrays that all contain the same type."
   ]
  },
  {
   "cell_type": "code",
   "execution_count": 171,
   "metadata": {},
   "outputs": [],
   "source": [
    "import numpy as np"
   ]
  },
  {
   "cell_type": "code",
   "execution_count": 187,
   "metadata": {},
   "outputs": [
    {
     "name": "stdout",
     "output_type": "stream",
     "text": [
      "[ 9 15 64 28 89 93 29  8 73  0]\n",
      "408\n",
      "0\n",
      "9\n",
      "93\n",
      "5\n",
      "40.8\n",
      "28.5\n",
      "33.68026128164685\n",
      "1134.36\n",
      "7.2\n",
      "True\n",
      "False\n",
      "[[ 9 15 64 28 89]\n",
      " [93 29  8 73  0]]\n",
      "[102  44  72 101  89]\n",
      "[205 203]\n"
     ]
    }
   ],
   "source": [
    "##### aggregations #####\n",
    "\n",
    "np.random.seed(10)\n",
    "data = np.random.randint(0, 100, 10)\n",
    "\n",
    "print (data)\n",
    "print (np.sum(data))      # data.sum()\n",
    "print (np.min(data))      # data.min()\n",
    "print (np.argmin(data)) # index of min value # data.argmin()\n",
    "print (np.max(data))      # data.max()\n",
    "print (np.argmax(data)) # index of max value # data.argmax()\n",
    "print (np.mean(data))    # data.mean()\n",
    "print (np.median(data)) # data.median() doesn't work!\n",
    "print (np.std(data))        # data.std()\n",
    "print (np.var(data))        # data.var()\n",
    "print (np.percentile(data,10)) # 10th percentile\n",
    "print (np.any(data))       # evaluate if any element is true # data.any()\n",
    "print (np.all(data))        # evaluate if all elements are true # data.all()\n",
    "\n",
    "# for 2D arrays, can either aggregate over entire data or aggregate across rows/columns\n",
    "data = data.reshape(2,5)\n",
    "print (data)\n",
    "print (np.sum(data, axis=0)) \n",
    "print (np.sum(data, axis=1))"
   ]
  },
  {
   "cell_type": "code",
   "execution_count": 188,
   "metadata": {},
   "outputs": [
    {
     "name": "stdout",
     "output_type": "stream",
     "text": [
      "[1 2 3 4 5 6 7 8 9]\n",
      "[2.71828183e+00 7.38905610e+00 2.00855369e+01 5.45981500e+01\n",
      " 1.48413159e+02 4.03428793e+02 1.09663316e+03 2.98095799e+03\n",
      " 8.10308393e+03]\n",
      "[  2.   4.   8.  16.  32.  64. 128. 256. 512.]\n",
      "[    3     9    27    81   243   729  2187  6561 19683]\n",
      "[0.         0.69314718 1.09861229 1.38629436 1.60943791 1.79175947\n",
      " 1.94591015 2.07944154 2.19722458]\n",
      "[0.         1.         1.5849625  2.         2.32192809 2.5849625\n",
      " 2.80735492 3.         3.169925  ]\n",
      "[0.         0.30103    0.47712125 0.60205999 0.69897    0.77815125\n",
      " 0.84509804 0.90308999 0.95424251]\n",
      "[ 0.84147098  0.90929743  0.14112001 -0.7568025  -0.95892427 -0.2794155\n",
      "  0.6569866   0.98935825  0.41211849]\n",
      "[ 0.54030231 -0.41614684 -0.9899925  -0.65364362  0.28366219  0.96017029\n",
      "  0.75390225 -0.14550003 -0.91113026]\n"
     ]
    }
   ],
   "source": [
    "##### universal functions (or ufuncs) #####\n",
    "\n",
    "np.random.seed(1)\n",
    "data = np.arange(1,10)\n",
    "print (data)\n",
    "\n",
    "print (np.exp(data))        # e^x\n",
    "print (np.exp2(data))       # 2^x\n",
    "print (np.power(3, data))   # 3^x\n",
    "\n",
    "print (np.log(data))        # ln(x)\n",
    "print (np.log2(data))       # log2(x)\n",
    "print (np.log10(data))      # log10(x)\n",
    "\n",
    "print (np.sin(data))\n",
    "print (np.cos(data))"
   ]
  },
  {
   "cell_type": "code",
   "execution_count": 189,
   "metadata": {},
   "outputs": [
    {
     "name": "stdout",
     "output_type": "stream",
     "text": [
      "[ 1  3  5  7  9 11 13 15 17 19]\n",
      "[False False False  True  True  True  True  True  True  True]\n",
      "[ 7  9 11 13 15 17 19]\n",
      "[[False False False]\n",
      " [ True  True  True]\n",
      " [ True  True  True]]\n",
      "[False False False  True  True]\n",
      "[0 1 2 3 4 5 6 7 8]\n",
      "[False False False False  True  True  True  True  True]\n",
      "[ True False False False  True  True  True  True  True]\n",
      "[False  True  True  True False False False False False]\n"
     ]
    }
   ],
   "source": [
    "##### conditional selection #####\n",
    "\n",
    "# you can use any comparison operator:  ==  !=  >  >=  <  <=\n",
    "data = np.arange(1, 20, 2)\n",
    "print (data)\n",
    "print (data > 5)\n",
    "print (data[data > 5])\n",
    "\n",
    "# comparisons work on arrays of any dimension\n",
    "data = np.arange(9).reshape(3,3)\n",
    "print (data >= 3)\n",
    "\n",
    "# comparisons also work bit-wise on two arrays\n",
    "a = np.array([1, 2, 3, 40, 50])\n",
    "b = np.array([10, 20, 3, 4, 5])\n",
    "print (a > b)\n",
    "\n",
    "# comparisons work with bitwise logic operators: &  |  ^\n",
    "data= np.arange(9)\n",
    "print (data)\n",
    "print ((data > 3) & (data < 9))\n",
    "print ((data > 3) | (data == 0))\n",
    "print ((data > 3) ^ (data != 0))"
   ]
  },
  {
   "cell_type": "code",
   "execution_count": 190,
   "metadata": {},
   "outputs": [
    {
     "name": "stdout",
     "output_type": "stream",
     "text": [
      "[[1 2 3]\n",
      " [4 5 6]\n",
      " [7 8 9]]\n",
      "[[-1 -2 -3]\n",
      " [-4 -5 -6]\n",
      " [-7 -8 -9]]\n",
      "[[1.         0.5        0.33333333]\n",
      " [0.25       0.2        0.16666667]\n",
      " [0.14285714 0.125      0.11111111]]\n",
      "[[ 6  7  8]\n",
      " [ 9 10 11]\n",
      " [12 13 14]]\n",
      "[[-4 -3 -2]\n",
      " [-1  0  1]\n",
      " [ 2  3  4]]\n",
      "[[ 2  4  6]\n",
      " [ 8 10 12]\n",
      " [14 16 18]]\n",
      "[[0.5 1.  1.5]\n",
      " [2.  2.5 3. ]\n",
      " [3.5 4.  4.5]]\n",
      "[[ 1  4  9]\n",
      " [16 25 36]\n",
      " [49 64 81]]\n",
      "[[1 0 1]\n",
      " [0 1 0]\n",
      " [1 0 1]]\n",
      "[[0 1 1]\n",
      " [2 2 3]\n",
      " [3 4 4]]\n",
      "[[1 2 3]\n",
      " [4 5 6]\n",
      " [7 8 9]]\n",
      "[0 1 2 3 4]\n",
      "[5 6 7 8 9]\n",
      "[ 5  7  9 11 13]\n",
      "[-5 -5 -5 -5 -5]\n",
      "[ 0  6 14 24 36]\n",
      "[0.         0.16666667 0.28571429 0.375      0.44444444]\n",
      "[     0      1    128   6561 262144]\n",
      "[0 1 2 3 4]\n",
      "[0 0 0 0 0]\n",
      "[37 12 72  9 75  5 79 64 16  1]\n",
      "37.0 30.548322376196047\n",
      "[ 0.         -0.81837555  1.14572576 -0.91658061  1.24393083 -1.0475207\n",
      "  1.37487092  0.88384559 -0.68743546 -1.17846079]\n",
      "2.2204460492503132e-17 0.9999999999999999\n"
     ]
    }
   ],
   "source": [
    "##### arithmetic operations #####\n",
    "\n",
    "# array with scalar arithmetic operations  +, -, *, /, ** (uses broadcast)\n",
    "data= np.arange(1,10).reshape(3,3)\n",
    "print (data)\n",
    "print (-data)       # shorthand for np.negative(data)\n",
    "print (1 / data)    # shorthand for np.reciprocal(data.astype(float))\n",
    "print (data + 5)    # shorthand for np.add(data, 5)\n",
    "print (data - 5)    # shorthand for np.subtract(data, 5)\n",
    "print (data * 2)    # shorthand for np.multiply(data, 2)\n",
    "print (data / 2)    # shorthand for np.divide(data, 2)\n",
    "print (data ** 2)   # shorthand for np.power(data, 2)\n",
    "print (data % 2)    # shorthand for np.mod(data, 2)\n",
    "print (data // 2)   # shorthand for np.floor_divide(data, 2)\n",
    "print (np.absolute(-data))\n",
    "\n",
    "# array with array arithmetic operations +, -, *, /, ** (operates on corresponding elements)\n",
    "x = np.arange(0,5)\n",
    "y = np.arange(5,10)\n",
    "print (x)\n",
    "print (y)\n",
    "print (x+y)\n",
    "print (x-y)\n",
    "print (x*y)\n",
    "print (x/y)\n",
    "print (x**y)\n",
    "print (x%y)\n",
    "print (x//y)\n",
    "\n",
    "# broadcasting use case: normalization\n",
    "data = np.random.randint(0,100,10)\n",
    "dm = data.mean()\n",
    "ds = data.std()\n",
    "print (data)\n",
    "print (dm, ds)\n",
    "norm = (data-dm)/ds\n",
    "nm = norm.mean()\n",
    "ns = norm.std()\n",
    "print (norm)\n",
    "print (nm, ns)"
   ]
  },
  {
   "cell_type": "code",
   "execution_count": null,
   "metadata": {},
   "outputs": [],
   "source": []
  }
 ],
 "metadata": {
  "kernelspec": {
   "display_name": "Python 3",
   "language": "python",
   "name": "python3"
  },
  "language_info": {
   "codemirror_mode": {
    "name": "ipython",
    "version": 3
   },
   "file_extension": ".py",
   "mimetype": "text/x-python",
   "name": "python",
   "nbconvert_exporter": "python",
   "pygments_lexer": "ipython3",
   "version": "3.6.6"
  }
 },
 "nbformat": 4,
 "nbformat_minor": 2
}
