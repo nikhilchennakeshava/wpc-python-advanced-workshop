{
 "cells": [
  {
   "cell_type": "code",
   "execution_count": 2,
   "metadata": {},
   "outputs": [],
   "source": [
    "# Reference: \n",
    "# online free docs:          https://docs.scipy.org/doc/numpy/\n",
    "#                                     https://docs.scipy.org/doc/numpy/user/basics.types.html\n",
    "#                                     https://docs.scipy.org/doc/numpy/reference/ufuncs.html#available-ufuncs\n",
    "# book old edition free:  https://www.safaribooksonline.com/library/view/python-data-science/9781491912126/\n",
    "# book new edition pay: https://smile.amazon.com/Python-Data-Science-Handbook-Essential/dp/1491912057/"
   ]
  },
  {
   "cell_type": "code",
   "execution_count": 3,
   "metadata": {},
   "outputs": [],
   "source": [
    "# NumPy Arrays are more compact (and therefore more memory efficient) than Python Lists.\n",
    "# Unlike Python Lists, NumPy is constrained to arrays that all contain the same type."
   ]
  },
  {
   "cell_type": "code",
   "execution_count": 4,
   "metadata": {},
   "outputs": [],
   "source": [
    "import numpy as np"
   ]
  },
  {
   "cell_type": "code",
   "execution_count": 5,
   "metadata": {},
   "outputs": [],
   "source": [
    "##### creating numpy arrays #####"
   ]
  },
  {
   "cell_type": "code",
   "execution_count": 6,
   "metadata": {},
   "outputs": [
    {
     "name": "stdout",
     "output_type": "stream",
     "text": [
      "[1 2 3]\n",
      "[[1 2 3]\n",
      " [4 5 6]]\n"
     ]
    }
   ],
   "source": [
    "# use a list\n",
    "arr1D = np.array([1,2,3])\n",
    "print (arr1D)\n",
    "arr2D = np.array([[1,2,3],[4,5,6]])\n",
    "print (arr2D)"
   ]
  },
  {
   "cell_type": "code",
   "execution_count": 7,
   "metadata": {},
   "outputs": [
    {
     "name": "stdout",
     "output_type": "stream",
     "text": [
      "[0 1 2 3 4 5 6 7 8 9]\n",
      "[1 2 3 4 5 6 7 8 9]\n",
      "[1 3 5 7 9]\n"
     ]
    }
   ],
   "source": [
    "# use arange\n",
    "arr1D = np.arange(10)\n",
    "print (arr1D)\n",
    "arr1D = np.arange(1, 10)\n",
    "print (arr1D)\n",
    "arr1D = np.arange(1,10, 2)\n",
    "print (arr1D)"
   ]
  },
  {
   "cell_type": "code",
   "execution_count": 8,
   "metadata": {},
   "outputs": [
    {
     "name": "stdout",
     "output_type": "stream",
     "text": [
      "[ 0.   2.5  5.   7.5 10. ]\n",
      "[ 1.    3.25  5.5   7.75 10.  ]\n",
      "[ 1.  2.  3.  4.  5.  6.  7.  8.  9. 10.]\n"
     ]
    }
   ],
   "source": [
    "# linspace\n",
    "arr1D = np.linspace(0, 10, 5)\n",
    "print (arr1D)\n",
    "arr1D = np.linspace(1, 10, 5)\n",
    "print (arr1D)\n",
    "arr1D = np.linspace(1, 10, 10)\n",
    "print (arr1D)"
   ]
  },
  {
   "cell_type": "code",
   "execution_count": 9,
   "metadata": {},
   "outputs": [
    {
     "name": "stdout",
     "output_type": "stream",
     "text": [
      "[ 1.  2.  3.  4.  5.  6.  7.  8.  9. 10.]\n",
      "[[0. 0. 0.]\n",
      " [0. 0. 0.]]\n"
     ]
    }
   ],
   "source": [
    "# empty: doesn't initialize to zeros\n",
    "arr1D = np.empty(10) # 1D\n",
    "print (arr1D)\n",
    "arr2D = np.empty((2,3)) # 2D\n",
    "print(arr2D)"
   ]
  },
  {
   "cell_type": "code",
   "execution_count": 10,
   "metadata": {},
   "outputs": [
    {
     "name": "stdout",
     "output_type": "stream",
     "text": [
      "[0. 0. 0. 0. 0. 0. 0. 0. 0. 0.]\n",
      "[[0. 0. 0. 0. 0.]\n",
      " [0. 0. 0. 0. 0.]\n",
      " [0. 0. 0. 0. 0.]]\n"
     ]
    }
   ],
   "source": [
    "# zeros\n",
    "arr1D = np.zeros(10) # 1D\n",
    "print (arr1D)\n",
    "arr2D = np.zeros((3,5)) #2D\n",
    "print (arr2D)"
   ]
  },
  {
   "cell_type": "code",
   "execution_count": 11,
   "metadata": {},
   "outputs": [
    {
     "name": "stdout",
     "output_type": "stream",
     "text": [
      "[1. 1. 1. 1. 1. 1. 1. 1. 1. 1.]\n",
      "[[1. 1. 1. 1. 1.]\n",
      " [1. 1. 1. 1. 1.]\n",
      " [1. 1. 1. 1. 1.]]\n"
     ]
    }
   ],
   "source": [
    "# ones\n",
    "arr1D = np.ones(10) # 1D\n",
    "print (arr1D)\n",
    "arr2D = np.ones((3,5)) #2D\n",
    "print (arr2D)"
   ]
  },
  {
   "cell_type": "code",
   "execution_count": 12,
   "metadata": {},
   "outputs": [
    {
     "name": "stdout",
     "output_type": "stream",
     "text": [
      "[3.14 3.14 3.14 3.14 3.14 3.14 3.14 3.14 3.14 3.14]\n",
      "[[3.14 3.14 3.14 3.14 3.14]\n",
      " [3.14 3.14 3.14 3.14 3.14]\n",
      " [3.14 3.14 3.14 3.14 3.14]]\n"
     ]
    }
   ],
   "source": [
    "# full\n",
    "arr1D = np.full(10, 3.14) # 1D\n",
    "print (arr1D)\n",
    "arr2D = np.full((3,5), 3.14) #2D\n",
    "print (arr2D)"
   ]
  },
  {
   "cell_type": "code",
   "execution_count": 13,
   "metadata": {},
   "outputs": [
    {
     "name": "stdout",
     "output_type": "stream",
     "text": [
      "[[1 0 0 0 0]\n",
      " [0 1 0 0 0]\n",
      " [0 0 1 0 0]\n",
      " [0 0 0 1 0]\n",
      " [0 0 0 0 1]]\n"
     ]
    }
   ],
   "source": [
    "# eye (identity)\n",
    "arr2D = np.eye(5, dtype=int) #2D\n",
    "print (arr2D)"
   ]
  },
  {
   "cell_type": "code",
   "execution_count": 16,
   "metadata": {},
   "outputs": [
    {
     "name": "stdout",
     "output_type": "stream",
     "text": [
      "[0.5488135  0.71518937 0.60276338]\n",
      "[[0.54488318 0.4236548  0.64589411 0.43758721 0.891773  ]\n",
      " [0.96366276 0.38344152 0.79172504 0.52889492 0.56804456]\n",
      " [0.92559664 0.07103606 0.0871293  0.0202184  0.83261985]]\n",
      "[0.44386323 0.33367433 1.49407907]\n",
      "[[-0.20515826  0.3130677  -0.85409574 -2.55298982  0.6536186 ]\n",
      " [ 0.8644362  -0.74216502  2.26975462 -1.45436567  0.04575852]\n",
      " [-0.18718385  1.53277921  1.46935877  0.15494743  0.37816252]]\n",
      "-0.3785675336793436 0.9869512657294515\n",
      "0.001502544955090189 0.9999145536339031\n",
      "[6 1 8]\n",
      "[[3 1 8 1 1]\n",
      " [7 2 7 6 8]\n",
      " [7 3 3 1 2]]\n"
     ]
    }
   ],
   "source": [
    "# random\n",
    "\n",
    "# set random seed\n",
    "np.random.seed(0)\n",
    "\n",
    "# uniform distribution over ``[0, 1)\n",
    "arr1D = np.random.rand(3) \n",
    "print (arr1D)\n",
    "arr2D = np.random.rand(3,5) \n",
    "print (arr2D)\n",
    "\n",
    "# normal distribution with mean 0 and std dev 1 (can change this using loc and scale parameters)\n",
    "arr1D = np.random.normal(size=3) \n",
    "print (arr1D)\n",
    "arr2D = np.random.normal(size=(3,5)) \n",
    "print (arr2D)\n",
    "arr1D = np.random.normal(0, 1, 10) \n",
    "print (np.mean(arr1D), np.std(arr1D))\n",
    "arr1D = np.random.normal(0, 1, 1000000) \n",
    "print (np.mean(arr1D), np.std(arr1D))\n",
    "\n",
    "# discrete uniform distribution in [low, high) - if low and high specified - or [0, low) - if only low specified\n",
    "arr1D = np.random.randint(0, 10, 3) \n",
    "print (arr1D)\n",
    "arr2D = np.random.randint(0, 10, (3,5)) \n",
    "print (arr2D)"
   ]
  },
  {
   "cell_type": "code",
   "execution_count": 17,
   "metadata": {},
   "outputs": [
    {
     "name": "stdout",
     "output_type": "stream",
     "text": [
      "[[49 78 89 73 15]\n",
      " [90 12 13 28 49]\n",
      " [82 21 40 38 12]]\n",
      "2 (3, 5) 15 int32\n"
     ]
    }
   ],
   "source": [
    "# some useful array attributes\n",
    "data = np.random.randint(1,100, (3,5))\n",
    "print (data)\n",
    "print (data.ndim, data.shape, data.size, data.dtype)"
   ]
  },
  {
   "cell_type": "code",
   "execution_count": 18,
   "metadata": {
    "scrolled": true
   },
   "outputs": [
    {
     "name": "stdout",
     "output_type": "stream",
     "text": [
      "[0 1 2 3 4 5 6 7 8 9]\n",
      "[[0 1 2 3 4]\n",
      " [5 6 7 8 9]]\n",
      "[[ 0  1  2  3  4]\n",
      " [ 5  6  7  8  9]\n",
      " [10 11 12 13 14]]\n"
     ]
    }
   ],
   "source": [
    "# reshape \n",
    "data = np.arange(10)\n",
    "print (data)\n",
    "data = data.reshape(2,5)\n",
    "print (data)\n",
    "data = np.arange(15).reshape(3,5)\n",
    "print (data)"
   ]
  },
  {
   "cell_type": "code",
   "execution_count": 19,
   "metadata": {},
   "outputs": [
    {
     "name": "stdout",
     "output_type": "stream",
     "text": [
      "[ 1  3  5  7  9 11 13 15 17 19 21 23 25 27 29 31 33 35 37 39]\n",
      "[5 7 9]\n",
      "[ 5  7  9 11 13 15 17 19 21 23 25 27 29 31 33 35 37 39]\n",
      "[1 3 5 7]\n",
      "[[ 1  3  5  7  9]\n",
      " [11 13 15 17 19]\n",
      " [21 23 25 27 29]\n",
      " [31 33 35 37 39]]\n",
      "[11 13 15 17 19]\n",
      "17\n",
      "17\n",
      "[[15 17]\n",
      " [25 27]]\n"
     ]
    }
   ],
   "source": [
    "# indexing and slicing\n",
    "\n",
    "arr1D = np.arange(1, 40, 2)\n",
    "print (arr1D)\n",
    "print (arr1D[2:5])\n",
    "print (arr1D[2:])\n",
    "print (arr1D[:4])\n",
    "\n",
    "arr2D = arr1D.reshape(4,5)\n",
    "print (arr2D)\n",
    "print (arr2D[1])\n",
    "print (arr2D[1][3])\n",
    "print (arr2D[1,3])\n",
    "print (arr2D[1:3,2:4])"
   ]
  },
  {
   "cell_type": "code",
   "execution_count": 20,
   "metadata": {},
   "outputs": [
    {
     "name": "stdout",
     "output_type": "stream",
     "text": [
      "[0 1 2 3 4 5 6 7 8 9]\n",
      "[0 1 3 3 4 5 6 7 8 9]\n",
      "[0.    1.    3.141 3.    4.    5.    6.    7.    8.    9.   ]\n"
     ]
    }
   ],
   "source": [
    "# arrays have fixed type\n",
    "\n",
    "data = np.arange(10)\n",
    "\n",
    "print (data)\n",
    "data[2] = 3.141 \n",
    "print (data)\n",
    "\n",
    "data = data.astype(float)\n",
    "data[2] = 3.141\n",
    "print (data)"
   ]
  },
  {
   "cell_type": "code",
   "execution_count": 21,
   "metadata": {},
   "outputs": [
    {
     "name": "stdout",
     "output_type": "stream",
     "text": [
      "[0 1 2 3 4 5 6 7 8 9]\n",
      "[  0   1 400   3   4   5   6   7   8   9]\n",
      "[0 1 2 3 4 5 6 7 8 9]\n",
      "[0 1 2 3 4 5 6 7 8 9]\n",
      "[5555    1    2    3    4    5    6    7    8    9]\n",
      "[5555    1    2    3    4    5    6    7    8    9]\n",
      "[0 1 2 3 4 5 6 7 8 9]\n",
      "[0 1 2 3 4 5 6 7 8 9]\n",
      "[5555    1    2    3    4    5    6    7    8    9]\n",
      "[0 1 2 3 4 5 6 7 8 9]\n"
     ]
    }
   ],
   "source": [
    "# arrays are mutable\n",
    "data = np.arange(10)\n",
    "print (data)\n",
    "data[2] = 400\n",
    "print (data)\n",
    "\n",
    "# name object bindings hold here as well\n",
    "data = np.arange(10)\n",
    "databind = data\n",
    "print (data)\n",
    "print (databind)\n",
    "data[0] = 5555\n",
    "print (data)\n",
    "print (databind)\n",
    "\n",
    "data = np.arange(10)\n",
    "datacopy = data.copy()\n",
    "print (data)\n",
    "print (datacopy)\n",
    "data[0] = 5555\n",
    "print (data)\n",
    "print (datacopy)"
   ]
  },
  {
   "cell_type": "code",
   "execution_count": null,
   "metadata": {},
   "outputs": [],
   "source": []
  }
 ],
 "metadata": {
  "kernelspec": {
   "display_name": "Python 3",
   "language": "python",
   "name": "python3"
  },
  "language_info": {
   "codemirror_mode": {
    "name": "ipython",
    "version": 3
   },
   "file_extension": ".py",
   "mimetype": "text/x-python",
   "name": "python",
   "nbconvert_exporter": "python",
   "pygments_lexer": "ipython3",
   "version": "3.6.6"
  }
 },
 "nbformat": 4,
 "nbformat_minor": 2
}
