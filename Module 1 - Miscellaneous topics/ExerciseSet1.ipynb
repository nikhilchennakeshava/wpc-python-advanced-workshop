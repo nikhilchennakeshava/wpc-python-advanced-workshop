{
 "cells": [
  {
   "cell_type": "code",
   "execution_count": 1,
   "metadata": {},
   "outputs": [],
   "source": [
    "import numpy as np\n",
    "import pandas as pd"
   ]
  },
  {
   "cell_type": "code",
   "execution_count": 2,
   "metadata": {},
   "outputs": [],
   "source": [
    "##### list comprehension: used to create a new list by applying simple operations to an existing list "
   ]
  },
  {
   "cell_type": "code",
   "execution_count": 3,
   "metadata": {},
   "outputs": [
    {
     "data": {
      "text/plain": [
       "[100, 200, 300, 400, 500]"
      ]
     },
     "execution_count": 3,
     "metadata": {},
     "output_type": "execute_result"
    }
   ],
   "source": [
    "# use list comprehension to convert a list of numbers to a list of absolute values of those numbers\n",
    "nums = [100, -200, -300, 400, 500]\n",
    "numsabs = [abs(n) for n in nums]\n",
    "numsabs"
   ]
  },
  {
   "cell_type": "code",
   "execution_count": 4,
   "metadata": {},
   "outputs": [
    {
     "data": {
      "text/plain": [
       "['a', 'b', 'g', 'o', 'p']"
      ]
     },
     "execution_count": 4,
     "metadata": {},
     "output_type": "execute_result"
    }
   ],
   "source": [
    "# use list comprehension to get a list of first characters from a list of words\n",
    "words = [\"apple\", \"banana\", \"grape\", \"orange\", \"pineapple\"]\n",
    "word0 = [w[0] for w in words]\n",
    "word0"
   ]
  },
  {
   "cell_type": "code",
   "execution_count": 5,
   "metadata": {},
   "outputs": [
    {
     "data": {
      "text/plain": [
       "[11, 22, 33, 44, 55]"
      ]
     },
     "execution_count": 5,
     "metadata": {},
     "output_type": "execute_result"
    }
   ],
   "source": [
    "# use list comprehension to sum corresponding elements of two lists \n",
    "lst1 = [1, 2, 3, 4, 5]\n",
    "lst2= [10, 20, 30, 40, 50]\n",
    "lst = [l1+l2 for l1,l2 in zip(lst1, lst2)]\n",
    "lst"
   ]
  },
  {
   "cell_type": "code",
   "execution_count": 6,
   "metadata": {},
   "outputs": [
    {
     "data": {
      "text/plain": [
       "['apple', 'grape']"
      ]
     },
     "execution_count": 6,
     "metadata": {},
     "output_type": "execute_result"
    }
   ],
   "source": [
    "# use list comprehension to get a list of words <= 5 charaters long from a list of words\n",
    "words = [\"apple\", \"banana\", \"grape\", \"orange\", \"pineapple\"]\n",
    "wordl5 = [w for w in words if len(w)<=5]\n",
    "wordl5"
   ]
  },
  {
   "cell_type": "code",
   "execution_count": 7,
   "metadata": {},
   "outputs": [],
   "source": [
    "##### lambda functions: used to define and use small anonymous functions inline"
   ]
  },
  {
   "cell_type": "code",
   "execution_count": 8,
   "metadata": {},
   "outputs": [
    {
     "data": {
      "text/plain": [
       "False"
      ]
     },
     "execution_count": 8,
     "metadata": {},
     "output_type": "execute_result"
    }
   ],
   "source": [
    "# create a lambda function to return True if a number is even, else return False. Then use it with the number 5\n",
    "(lambda x: x%2==0)(5)"
   ]
  },
  {
   "cell_type": "code",
   "execution_count": 9,
   "metadata": {},
   "outputs": [],
   "source": [
    "##### map functions: used to apply a function to each item in an iterable"
   ]
  },
  {
   "cell_type": "code",
   "execution_count": 10,
   "metadata": {},
   "outputs": [
    {
     "data": {
      "text/plain": [
       "[0, 1, 1, 0, 1]"
      ]
     },
     "execution_count": 10,
     "metadata": {},
     "output_type": "execute_result"
    }
   ],
   "source": [
    "# use map and lambda to return a new list with 0 or 1 depending on whether the elements in the exisiting list are >=100 or <100\n",
    "lst = [100, 50, 75, 200, 25]\n",
    "newlst = list(map((lambda x: 1 if x<100 else 0), lst))\n",
    "newlst"
   ]
  },
  {
   "cell_type": "code",
   "execution_count": 11,
   "metadata": {},
   "outputs": [
    {
     "data": {
      "text/plain": [
       "[100, 200, 300, 400, 500]"
      ]
     },
     "execution_count": 11,
     "metadata": {},
     "output_type": "execute_result"
    }
   ],
   "source": [
    "# use map to convert a list of numbers to a list of absolute values of those numbers\n",
    "nums = [100, -200, -300, 400, 500]\n",
    "numsabs = list(map(abs, nums))\n",
    "numsabs"
   ]
  },
  {
   "cell_type": "code",
   "execution_count": 12,
   "metadata": {},
   "outputs": [
    {
     "data": {
      "text/plain": [
       "['apple', 'banana', 'grape', 'orange', 'pineapple']"
      ]
     },
     "execution_count": 12,
     "metadata": {},
     "output_type": "execute_result"
    }
   ],
   "source": [
    "# use map to lower case items in a list\n",
    "words = [\"APPLE\", \"Banana\", \"Grape\", \"ORANGE\", \"pineapple\"]\n",
    "wordslow = list(map(str.lower, words))\n",
    "wordslow"
   ]
  },
  {
   "cell_type": "code",
   "execution_count": 13,
   "metadata": {},
   "outputs": [
    {
     "data": {
      "text/plain": [
       "[11, 22, 33, 44, 55]"
      ]
     },
     "execution_count": 13,
     "metadata": {},
     "output_type": "execute_result"
    }
   ],
   "source": [
    "# use map and lamda to sum corresponding elements of two lists \n",
    "lst1 = [1, 2, 3, 4, 5]\n",
    "lst2= [10, 20, 30, 40, 50]\n",
    "lst = list(map((lambda l1,l2: l1+l2), lst1, lst2))\n",
    "lst"
   ]
  },
  {
   "cell_type": "code",
   "execution_count": 14,
   "metadata": {},
   "outputs": [],
   "source": [
    "##### filter functions: used to apply a function to each item in an iterable, and return only those elements that meet some criteria"
   ]
  },
  {
   "cell_type": "code",
   "execution_count": 15,
   "metadata": {},
   "outputs": [
    {
     "data": {
      "text/plain": [
       "[False, False, True, True, True]"
      ]
     },
     "execution_count": 15,
     "metadata": {},
     "output_type": "execute_result"
    }
   ],
   "source": [
    "# what will this return?\n",
    "lst = [10, 20, 30, 40, 50]\n",
    "newlst = list(map((lambda x: x>25), lst))\n",
    "newlst"
   ]
  },
  {
   "cell_type": "code",
   "execution_count": 16,
   "metadata": {},
   "outputs": [
    {
     "data": {
      "text/plain": [
       "[30, 40, 50]"
      ]
     },
     "execution_count": 16,
     "metadata": {},
     "output_type": "execute_result"
    }
   ],
   "source": [
    "# what will this return?\n",
    "lst = [10, 20, 30, 40, 50]\n",
    "newlst = list(filter((lambda x: x>25), lst))\n",
    "newlst"
   ]
  },
  {
   "cell_type": "code",
   "execution_count": 17,
   "metadata": {},
   "outputs": [
    {
     "data": {
      "text/plain": [
       "['apple', 'grape']"
      ]
     },
     "execution_count": 17,
     "metadata": {},
     "output_type": "execute_result"
    }
   ],
   "source": [
    "# use filter and lambda functions to get a list of words <= 5 charaters long from a list of words\n",
    "words = [\"apple\", \"banana\", \"grape\", \"orange\", \"pineapple\"]\n",
    "wordl5 = list(filter((lambda x: len(x)<=5), words))\n",
    "wordl5"
   ]
  },
  {
   "cell_type": "code",
   "execution_count": 18,
   "metadata": {},
   "outputs": [
    {
     "data": {
      "text/plain": [
       "[10, 14, 20]"
      ]
     },
     "execution_count": 18,
     "metadata": {},
     "output_type": "execute_result"
    }
   ],
   "source": [
    "# use filter and lambda functions to get even elements from a list of integers\n",
    "nums = [10, 13, 14, 15, 17, 20]\n",
    "numseven = list(filter((lambda x: x%2==0), nums))\n",
    "numseven"
   ]
  }
 ],
 "metadata": {
  "kernelspec": {
   "display_name": "Python 3",
   "language": "python",
   "name": "python3"
  },
  "language_info": {
   "codemirror_mode": {
    "name": "ipython",
    "version": 3
   },
   "file_extension": ".py",
   "mimetype": "text/x-python",
   "name": "python",
   "nbconvert_exporter": "python",
   "pygments_lexer": "ipython3",
   "version": "3.7.3"
  }
 },
 "nbformat": 4,
 "nbformat_minor": 2
}
