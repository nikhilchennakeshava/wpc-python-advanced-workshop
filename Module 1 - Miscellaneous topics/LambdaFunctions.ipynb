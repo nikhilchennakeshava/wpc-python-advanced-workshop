{
 "cells": [
  {
   "cell_type": "code",
   "execution_count": 4,
   "metadata": {},
   "outputs": [],
   "source": [
    "# Lambda Functions are small anonymous functions, and are used most often with map and filter functions\n",
    "\n",
    "# Lambda Fucntions are used to Replace...\n",
    "# ...this:\n",
    "#     def func(params):\n",
    "#         return SomeOperation(params)\n",
    "#     func(args)\n",
    "# ...with this:\n",
    "#     (lambda params: SomeOperation(params))(args)"
   ]
  },
  {
   "cell_type": "code",
   "execution_count": 5,
   "metadata": {},
   "outputs": [
    {
     "name": "stdout",
     "output_type": "stream",
     "text": [
      "16\n",
      "16\n"
     ]
    }
   ],
   "source": [
    "# Trivial Example 1\n",
    "\n",
    "# squaring number without lambda function\n",
    "def numSquare(num):\n",
    "    return num**2\n",
    "print (numSquare(4))\n",
    "\n",
    "# squaring number with lamda function\n",
    "print ((lambda x: x**2)(4))"
   ]
  },
  {
   "cell_type": "code",
   "execution_count": 6,
   "metadata": {},
   "outputs": [
    {
     "name": "stdout",
     "output_type": "stream",
     "text": [
      "hello\n",
      "hello\n"
     ]
    }
   ],
   "source": [
    "# Trivial Example 2\n",
    "\n",
    "#  lowercasing string without lambda function\n",
    "def strLower(s):\n",
    "    return s.lower()\n",
    "print (strLower(\"HELLO\"))\n",
    "\n",
    "# lowercasing string with lamda function\n",
    "print ((lambda s: s.lower())(\"HELLO\"))"
   ]
  },
  {
   "cell_type": "code",
   "execution_count": null,
   "metadata": {},
   "outputs": [],
   "source": []
  }
 ],
 "metadata": {
  "kernelspec": {
   "display_name": "Python 3",
   "language": "python",
   "name": "python3"
  },
  "language_info": {
   "codemirror_mode": {
    "name": "ipython",
    "version": 3
   },
   "file_extension": ".py",
   "mimetype": "text/x-python",
   "name": "python",
   "nbconvert_exporter": "python",
   "pygments_lexer": "ipython3",
   "version": "3.6.6"
  }
 },
 "nbformat": 4,
 "nbformat_minor": 2
}
