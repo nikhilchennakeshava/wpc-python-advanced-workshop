{
 "cells": [
  {
   "cell_type": "code",
   "execution_count": null,
   "metadata": {},
   "outputs": [],
   "source": [
    "# Filter Fucntion applies a function to each item in an iterable, \n",
    "# and returns only those elements that meet some criteria\n",
    "\n",
    "# Filter  Functions are used to replace...\n",
    "# ...this:\n",
    "#     def func(param):\n",
    "#         if SomeConditionIsTrue(param):\n",
    "#             return True\n",
    "#         else\n",
    "#             returns False\n",
    "#     newlst = []\n",
    "#     for n in oldlst:\n",
    "#         if func(n) == True:\n",
    "#             newlst.append(func(n))\n",
    "# ...with this:\n",
    "#     newlst = filter(func, oldlst)"
   ]
  },
  {
   "cell_type": "code",
   "execution_count": 4,
   "metadata": {},
   "outputs": [
    {
     "name": "stdout",
     "output_type": "stream",
     "text": [
      "[20, 25]\n",
      "[20, 25]\n",
      "[20, 25]\n"
     ]
    }
   ],
   "source": [
    "# Example 1\n",
    "\n",
    "def checkG15(n):\n",
    "    if n > 15:\n",
    "        return True\n",
    "    else:\n",
    "        return False\n",
    "\n",
    "nums = [5, 10, 15, 20, 25]\n",
    "\n",
    "# create list of nums > 15 without using filter function\n",
    "numnew1 = []\n",
    "for n in nums:\n",
    "    if checkG15(n) == True:\n",
    "        numnew1.append(n)\n",
    "print (numnew1)\n",
    "\n",
    "# create list of nums > 15 with filter function\n",
    "numnew2 = filter(checkG15, nums)\n",
    "print (list(numnew2))\n",
    "\n",
    "# create list of nums > 15 with filter and lambda function\n",
    "numnew3 = filter((lambda x: x>15), nums)\n",
    "print (list(numnew3))"
   ]
  },
  {
   "cell_type": "code",
   "execution_count": null,
   "metadata": {},
   "outputs": [],
   "source": []
  }
 ],
 "metadata": {
  "kernelspec": {
   "display_name": "Python 3",
   "language": "python",
   "name": "python3"
  },
  "language_info": {
   "codemirror_mode": {
    "name": "ipython",
    "version": 3
   },
   "file_extension": ".py",
   "mimetype": "text/x-python",
   "name": "python",
   "nbconvert_exporter": "python",
   "pygments_lexer": "ipython3",
   "version": "3.6.6"
  }
 },
 "nbformat": 4,
 "nbformat_minor": 2
}
