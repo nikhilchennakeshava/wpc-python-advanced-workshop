{
 "cells": [
  {
   "cell_type": "code",
   "execution_count": 2,
   "metadata": {},
   "outputs": [],
   "source": [
    "# Map Fucntions apply a function to each item in an iterable\n",
    "\n",
    "# Map Functions are used to replace...\n",
    "# ...this:\n",
    "#     def func(param):\n",
    "#         return SomeOperation(param)\n",
    "#     newlst = []\n",
    "#     for n in oldlst:\n",
    "#         newlst.append(func(n))\n",
    "# ...with this:\n",
    "#     newlst = map(func, oldlst)"
   ]
  },
  {
   "cell_type": "code",
   "execution_count": 11,
   "metadata": {},
   "outputs": [
    {
     "name": "stdout",
     "output_type": "stream",
     "text": [
      "[1, 4, 9, 16, 25]\n",
      "[1, 4, 9, 16, 25]\n",
      "[1, 4, 9, 16, 25]\n"
     ]
    }
   ],
   "source": [
    "# Example 1\n",
    "\n",
    "def numSquare(n):\n",
    "    return (n**2)\n",
    "\n",
    "# list of numbers\n",
    "nums = [1, 2, 3, 4, 5]\n",
    "\n",
    "# squaring numbers in list without map function\n",
    "numsq1 = []\n",
    "for n in nums:\n",
    "    numsq1.append(numSquare(n))\n",
    "print (numsq1)\n",
    "\n",
    "# squaring numbers in list with map function\n",
    "numsq2 = map(numSquare, nums)\n",
    "print (list(numsq2))\n",
    "\n",
    "# squaring numbers in list with map and lambda function\n",
    "numsq3 = map((lambda x: x**2), nums)\n",
    "print (list(numsq3))"
   ]
  },
  {
   "cell_type": "code",
   "execution_count": 13,
   "metadata": {},
   "outputs": [
    {
     "name": "stdout",
     "output_type": "stream",
     "text": [
      "['hi', 'there', 'how', 'are', 'you']\n",
      "['hi', 'there', 'how', 'are', 'you']\n",
      "['hi', 'there', 'how', 'are', 'you']\n"
     ]
    }
   ],
   "source": [
    "# Example 2\n",
    "\n",
    "def strLower(s):\n",
    "    return s.lower()\n",
    "\n",
    "# list of words\n",
    "words = [\"Hi\", \"There\", \"How\", \"Are\", \"You\"]\n",
    "\n",
    "# lower casing list of words without map function\n",
    "wordlow1 = []\n",
    "for w in words:\n",
    "    wordlow1.append(strLower(w))\n",
    "print (wordlow1)\n",
    "\n",
    "# lower casing list of words with map function\n",
    "wordlow2 = map(strLower, words)\n",
    "print (list(wordlow2))\n",
    "\n",
    "# slower casing list of words with map and lambda function\n",
    "wordlow3 = map((lambda x: x.lower()), words)\n",
    "print (list(wordlow3))"
   ]
  },
  {
   "cell_type": "code",
   "execution_count": 14,
   "metadata": {},
   "outputs": [
    {
     "name": "stdout",
     "output_type": "stream",
     "text": [
      "[11, 22, 33, 44, 55]\n",
      "[11, 22, 33, 44, 55]\n",
      "[11, 22, 33, 44, 55]\n"
     ]
    }
   ],
   "source": [
    "# Example 3\n",
    "\n",
    "def sumNums(a, b):\n",
    "    return (a + b)\n",
    "\n",
    "# list of numbers\n",
    "nums1 = [1, 2, 3, 4, 5]\n",
    "nums2 = [10, 20, 30, 40, 50]\n",
    "\n",
    "# summing numbers in two lists without map function\n",
    "sumnums1 = []\n",
    "for n1,n2 in zip(nums1,nums2):\n",
    "    sumnums1.append(sumNums(n1,n2))\n",
    "print (sumnums1)\n",
    "\n",
    "# summing numbers in two lists with map function\n",
    "sumnums2 = map(sumNums, nums1, nums2)\n",
    "print (list(sumnums2))\n",
    "\n",
    "# summing numbers in two lists with map and lambda function\n",
    "sumnums3 = map((lambda x,y: x+y), nums1, nums2)\n",
    "print (list(sumnums3))"
   ]
  },
  {
   "cell_type": "code",
   "execution_count": null,
   "metadata": {},
   "outputs": [],
   "source": []
  }
 ],
 "metadata": {
  "kernelspec": {
   "display_name": "Python 3",
   "language": "python",
   "name": "python3"
  },
  "language_info": {
   "codemirror_mode": {
    "name": "ipython",
    "version": 3
   },
   "file_extension": ".py",
   "mimetype": "text/x-python",
   "name": "python",
   "nbconvert_exporter": "python",
   "pygments_lexer": "ipython3",
   "version": "3.6.6"
  }
 },
 "nbformat": 4,
 "nbformat_minor": 2
}
