{
 "cells": [
  {
   "cell_type": "code",
   "execution_count": 1,
   "metadata": {},
   "outputs": [],
   "source": [
    "# List Comprehensions are used to Replace...\n",
    "# ...this:\n",
    "#     newlst = []\n",
    "#     for elem in oldlst:\n",
    "#         newlst.append(SomeOpearion(elem))\n",
    "# ...with this:\n",
    "#     newlst = [SomeOpearion(elem) for elem in oldlst]"
   ]
  },
  {
   "cell_type": "code",
   "execution_count": 2,
   "metadata": {},
   "outputs": [
    {
     "name": "stdout",
     "output_type": "stream",
     "text": [
      "[1, 4, 9, 16, 25]\n",
      "[1, 4, 9, 16, 25]\n"
     ]
    }
   ],
   "source": [
    "# Example 1\n",
    "\n",
    "# list of numbers\n",
    "nums = [1, 2, 3, 4, 5]\n",
    "\n",
    "# squaring numbers without list comprehension\n",
    "numsq1 = []\n",
    "for n in nums:\n",
    "    numsq1.append(n**2)\n",
    "print (numsq1)\n",
    "\n",
    "# squaring numbers with list comprehension\n",
    "numsq2 = [n**2 for n in nums]\n",
    "print (numsq2)"
   ]
  },
  {
   "cell_type": "code",
   "execution_count": 3,
   "metadata": {},
   "outputs": [
    {
     "name": "stdout",
     "output_type": "stream",
     "text": [
      "[2, 4, 6, 8, 10]\n",
      "[2, 4, 6, 8, 10]\n"
     ]
    }
   ],
   "source": [
    "# Example 2\n",
    "\n",
    "# list of numbers\n",
    "nums = [1, 2, 3, 4, 5]\n",
    "\n",
    "# multiplying each number by 2 without list comprehension\n",
    "numst21 = []\n",
    "for n in nums:\n",
    "    numst21.append(n*2)\n",
    "print (numst21)\n",
    "\n",
    "# multiplying each number by 2 with list comprehension\n",
    "numst22 = [n*2 for n in nums]\n",
    "print (numst22)"
   ]
  },
  {
   "cell_type": "code",
   "execution_count": 4,
   "metadata": {},
   "outputs": [
    {
     "name": "stdout",
     "output_type": "stream",
     "text": [
      "['hi', 'there', 'how', 'are', 'you']\n",
      "['hi', 'there', 'how', 'are', 'you']\n"
     ]
    }
   ],
   "source": [
    "# Example 3\n",
    "\n",
    "# list of words\n",
    "words = [\"Hi\", \"There\", \"How\", \"Are\", \"You\"]\n",
    "\n",
    "# lower casing list of words without list comprehension\n",
    "wordlow1 = []\n",
    "for w in words:\n",
    "    wordlow1.append(w.lower())\n",
    "print (wordlow1)\n",
    "\n",
    "# lower casing list of words with list comprehension\n",
    "wordlow2 = [w.lower() for w in words]\n",
    "print (wordlow2)"
   ]
  },
  {
   "cell_type": "code",
   "execution_count": null,
   "metadata": {},
   "outputs": [],
   "source": []
  }
 ],
 "metadata": {
  "kernelspec": {
   "display_name": "Python 3",
   "language": "python",
   "name": "python3"
  },
  "language_info": {
   "codemirror_mode": {
    "name": "ipython",
    "version": 3
   },
   "file_extension": ".py",
   "mimetype": "text/x-python",
   "name": "python",
   "nbconvert_exporter": "python",
   "pygments_lexer": "ipython3",
   "version": "3.7.3"
  }
 },
 "nbformat": 4,
 "nbformat_minor": 2
}
